{
 "cells": [
  {
   "cell_type": "code",
   "execution_count": 1,
   "id": "c98ef769",
   "metadata": {},
   "outputs": [],
   "source": [
    "import requests\n",
    "import pandas as pd\n",
    "import datetime as dt\n",
    "import time\n",
    "import talib as ta"
   ]
  },
  {
   "cell_type": "code",
   "execution_count": 2,
   "id": "efa5fa39",
   "metadata": {},
   "outputs": [],
   "source": [
    "url = \"https://api.coindcx.com/exchange/v1/markets\"\n",
    "\n",
    "response = requests.get(url)\n",
    "data = response.json()\n",
    "#print(data)\n",
    "inr_pair = []\n",
    "for i in data:\n",
    "    if i[-3:] == \"INR\":\n",
    "        x = i[:-3] + \"_\" + i[-3:]\n",
    "        inr_pair.append(x)\n",
    "\n",
    "# inr_pair.remove('MEV_USDT')\n",
    "# inr_pair.remove('XTM_USDT')\n",
    "# inr_pair.remove('USDD_USDT')\n"
   ]
  },
  {
   "cell_type": "code",
   "execution_count": 3,
   "id": "80132b39",
   "metadata": {},
   "outputs": [],
   "source": [
    "def data_downloader(name,interval,limit):\n",
    "    url = f\"https://public.coindcx.com/market_data/candles?pair=B-{name}&interval={interval}&limit={limit}\" # Replace 'SNTBTC' with the desired market pair.\n",
    "\n",
    "    response = requests.get(url)\n",
    "    data = response.json()\n",
    "\n",
    "    df = pd.DataFrame(data)\n",
    "\n",
    "    df['date_time'] = df['time'].apply(lambda x: time.strftime(\"%Y-%m-%d %H:%M:%M\", time.localtime(x/1000)))\n",
    "    df['date_time'] = pd.to_datetime(df['date_time'])\n",
    "    df = df.sort_values(by = 'date_time')\n",
    "    df = df.reset_index(drop=True)\n",
    "\n",
    "    df = df[['date_time','open','high','low','close','volume']]\n",
    "    \n",
    "    df['rsi'] = ta.RSI(df.close, timeperiod=14)\n",
    "    return df"
   ]
  },
  {
   "cell_type": "code",
   "execution_count": 4,
   "id": "21610ad6",
   "metadata": {},
   "outputs": [
    {
     "name": "stdout",
     "output_type": "stream",
     "text": [
      "OMG_INR Buy\n",
      "BAT_INR Buy\n"
     ]
    }
   ],
   "source": [
    "for pair in inr_pair:\n",
    "    #print(pair)\n",
    "    try:\n",
    "        df = data_downloader(pair,'5m',20)\n",
    "        rsi = df.iloc[-1]['rsi']\n",
    "\n",
    "        if rsi > 70:\n",
    "            print(pair,'Sell')\n",
    "\n",
    "        if rsi < 30:\n",
    "            print(pair,'Buy')\n",
    "    except Exception:\n",
    "        #print('Failed to get data:',pair)\n",
    "        pass\n",
    "    "
   ]
  },
  {
   "cell_type": "code",
   "execution_count": 5,
   "id": "c2ee4611-e2af-44ca-b014-9b4175c0fb87",
   "metadata": {},
   "outputs": [
    {
     "name": "stdout",
     "output_type": "stream",
     "text": [
      "API3_USDT Buy\n"
     ]
    }
   ],
   "source": [
    "usdt_pair = [\"BTC_USDT\",\"BCH_USDT\",\"SOL_USDT\",\"XRP_USDT\",\"MATIC_USDT\",\"COMP_USDT\",\"MAGIC_USDT\",\"API3_USDT\",\"WLD_USDT\",\"LINK_USDT\",\"ADA_USDT\"]\n",
    "for pair in usdt_pair:\n",
    "    #print(pair)\n",
    "    try:\n",
    "        df = data_downloader(pair,'5m',20)\n",
    "        rsi = df.iloc[-1]['rsi']\n",
    "\n",
    "        if rsi > 70:\n",
    "            print(pair,'Sell')\n",
    "\n",
    "        if rsi < 30:\n",
    "            print(pair,'Buy')\n",
    "    except Exception:\n",
    "        #print('Failed to get data:',pair)\n",
    "        pass\n",
    "    "
   ]
  },
  {
   "cell_type": "code",
   "execution_count": 67,
   "id": "8c786cb4",
   "metadata": {},
   "outputs": [
    {
     "data": {
      "text/plain": [
       "[{'open': 227.8,\n",
       "  'high': 228.2,\n",
       "  'low': 227.7,\n",
       "  'volume': 2285.443,\n",
       "  'close': 228.1,\n",
       "  'time': 1691924400000},\n",
       " {'open': 228.1,\n",
       "  'high': 228.4,\n",
       "  'low': 227.7,\n",
       "  'volume': 10929.851,\n",
       "  'close': 227.8,\n",
       "  'time': 1691920800000},\n",
       " {'open': 228.1,\n",
       "  'high': 228.3,\n",
       "  'low': 227.6,\n",
       "  'volume': 94832.923,\n",
       "  'close': 228.1,\n",
       "  'time': 1691917200000},\n",
       " {'open': 227.7,\n",
       "  'high': 228.3,\n",
       "  'low': 227.3,\n",
       "  'volume': 34634.866,\n",
       "  'close': 228.1,\n",
       "  'time': 1691913600000},\n",
       " {'open': 226.8,\n",
       "  'high': 228,\n",
       "  'low': 226.5,\n",
       "  'volume': 281682.371,\n",
       "  'close': 227.9,\n",
       "  'time': 1691910000000},\n",
       " {'open': 226.4,\n",
       "  'high': 227.2,\n",
       "  'low': 226.1,\n",
       "  'volume': 167415.273,\n",
       "  'close': 226.8,\n",
       "  'time': 1691906400000},\n",
       " {'open': 227.9,\n",
       "  'high': 227.9,\n",
       "  'low': 225,\n",
       "  'volume': 642977.138,\n",
       "  'close': 226.5,\n",
       "  'time': 1691902800000},\n",
       " {'open': 228.5,\n",
       "  'high': 228.5,\n",
       "  'low': 227.8,\n",
       "  'volume': 28062.818,\n",
       "  'close': 227.9,\n",
       "  'time': 1691899200000},\n",
       " {'open': 228.6,\n",
       "  'high': 228.6,\n",
       "  'low': 228.1,\n",
       "  'volume': 20014.468,\n",
       "  'close': 228.4,\n",
       "  'time': 1691895600000},\n",
       " {'open': 228.9,\n",
       "  'high': 229.1,\n",
       "  'low': 228.5,\n",
       "  'volume': 12016.5,\n",
       "  'close': 228.6,\n",
       "  'time': 1691892000000},\n",
       " {'open': 229,\n",
       "  'high': 229.2,\n",
       "  'low': 228.4,\n",
       "  'volume': 27884.479,\n",
       "  'close': 229,\n",
       "  'time': 1691888400000},\n",
       " {'open': 228.7,\n",
       "  'high': 229.4,\n",
       "  'low': 228.1,\n",
       "  'volume': 24590.086,\n",
       "  'close': 229,\n",
       "  'time': 1691884800000},\n",
       " {'open': 228.8,\n",
       "  'high': 229.1,\n",
       "  'low': 228.3,\n",
       "  'volume': 17228.385,\n",
       "  'close': 228.7,\n",
       "  'time': 1691881200000},\n",
       " {'open': 228.7,\n",
       "  'high': 229.2,\n",
       "  'low': 228.5,\n",
       "  'volume': 35157.191,\n",
       "  'close': 228.8,\n",
       "  'time': 1691877600000},\n",
       " {'open': 227.9,\n",
       "  'high': 228.8,\n",
       "  'low': 227.6,\n",
       "  'volume': 33336.529,\n",
       "  'close': 228.7,\n",
       "  'time': 1691874000000},\n",
       " {'open': 227.8,\n",
       "  'high': 228.2,\n",
       "  'low': 227.6,\n",
       "  'volume': 30683.518,\n",
       "  'close': 228,\n",
       "  'time': 1691870400000},\n",
       " {'open': 228,\n",
       "  'high': 228.3,\n",
       "  'low': 227.5,\n",
       "  'volume': 55624.35,\n",
       "  'close': 227.8,\n",
       "  'time': 1691866800000},\n",
       " {'open': 227.8,\n",
       "  'high': 228.3,\n",
       "  'low': 227.4,\n",
       "  'volume': 136650.641,\n",
       "  'close': 228,\n",
       "  'time': 1691863200000},\n",
       " {'open': 228.7,\n",
       "  'high': 228.8,\n",
       "  'low': 227.4,\n",
       "  'volume': 96702.025,\n",
       "  'close': 227.7,\n",
       "  'time': 1691859600000},\n",
       " {'open': 229.1,\n",
       "  'high': 229.6,\n",
       "  'low': 228.5,\n",
       "  'volume': 60993.421,\n",
       "  'close': 228.6,\n",
       "  'time': 1691856000000}]"
      ]
     },
     "execution_count": 67,
     "metadata": {},
     "output_type": "execute_result"
    }
   ],
   "source": [
    "url = f\"https://public.coindcx.com/market_data/candles?pair=B-BCH_USDT&interval=1h&limit=20\" # Replace 'SNTBTC' with the desired market pair.\n",
    "\n",
    "response = requests.get(url)\n",
    "data = response.json()\n",
    "data\n"
   ]
  },
  {
   "cell_type": "code",
   "execution_count": null,
   "id": "c0c2c1d5",
   "metadata": {},
   "outputs": [],
   "source": []
  }
 ],
 "metadata": {
  "kernelspec": {
   "display_name": "Python 3 (ipykernel)",
   "language": "python",
   "name": "python3"
  },
  "language_info": {
   "codemirror_mode": {
    "name": "ipython",
    "version": 3
   },
   "file_extension": ".py",
   "mimetype": "text/x-python",
   "name": "python",
   "nbconvert_exporter": "python",
   "pygments_lexer": "ipython3",
   "version": "3.10.11"
  },
  "vscode": {
   "interpreter": {
    "hash": "26de051ba29f2982a8de78e945f0abaf191376122a1563185a90213a26c5da77"
   }
  }
 },
 "nbformat": 4,
 "nbformat_minor": 5
}
